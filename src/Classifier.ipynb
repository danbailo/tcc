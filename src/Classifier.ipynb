{
 "cells": [
  {
   "cell_type": "code",
   "execution_count": 39,
   "id": "4da04d93-90f8-453a-b2bd-78487c9eaa1f",
   "metadata": {},
   "outputs": [],
   "source": [
    "from mongoengine import connect, disconnect_all\n",
    "from utils import mongo_to_df\n",
    "from sklearn.metrics import confusion_matrix, accuracy_score\n",
    "from sklearn.linear_model import LogisticRegression\n",
    "import sklearn.model_selection as ms\n",
    "import numpy as np\n",
    "import random\n",
    "from sklearn.metrics import plot_roc_curve\n",
    "import matplotlib.pyplot as plt\n",
    "\n",
    "np.random.seed(21)\n",
    "random.seed(21)"
   ]
  },
  {
   "cell_type": "markdown",
   "id": "e39f9fe8-7825-4987-a57d-ece4e9ac8f79",
   "metadata": {},
   "source": [
    "### Preparando dados"
   ]
  },
  {
   "cell_type": "code",
   "execution_count": 2,
   "id": "f8a51f83-2295-483f-bb48-08a31d2dfe22",
   "metadata": {},
   "outputs": [],
   "source": [
    "connect(\"tcc\")\n",
    "df = mongo_to_df()\n",
    "disconnect_all()"
   ]
  },
  {
   "cell_type": "code",
   "execution_count": 3,
   "id": "42c38733-afa1-4fac-bab0-0ac44cb5c1f5",
   "metadata": {},
   "outputs": [
    {
     "data": {
      "text/html": [
       "<div>\n",
       "<style scoped>\n",
       "    .dataframe tbody tr th:only-of-type {\n",
       "        vertical-align: middle;\n",
       "    }\n",
       "\n",
       "    .dataframe tbody tr th {\n",
       "        vertical-align: top;\n",
       "    }\n",
       "\n",
       "    .dataframe thead th {\n",
       "        text-align: right;\n",
       "    }\n",
       "</style>\n",
       "<table border=\"1\" class=\"dataframe\">\n",
       "  <thead>\n",
       "    <tr style=\"text-align: right;\">\n",
       "      <th></th>\n",
       "      <th>_id</th>\n",
       "      <th>answer_1</th>\n",
       "      <th>answer_2</th>\n",
       "      <th>answer_3</th>\n",
       "      <th>answer_4</th>\n",
       "      <th>answer_5</th>\n",
       "      <th>answer_6</th>\n",
       "      <th>answer_7</th>\n",
       "      <th>answer_8</th>\n",
       "      <th>answer_9</th>\n",
       "      <th>answer_10</th>\n",
       "      <th>answer_11</th>\n",
       "      <th>evaded</th>\n",
       "      <th>user_id</th>\n",
       "    </tr>\n",
       "  </thead>\n",
       "  <tbody>\n",
       "    <tr>\n",
       "      <th>0</th>\n",
       "      <td>FAKE_answer-17e4e593581240e29ab1e5c3427f945e</td>\n",
       "      <td>True</td>\n",
       "      <td>False</td>\n",
       "      <td>False</td>\n",
       "      <td>False</td>\n",
       "      <td>False</td>\n",
       "      <td>True</td>\n",
       "      <td>False</td>\n",
       "      <td>True</td>\n",
       "      <td>True</td>\n",
       "      <td>True</td>\n",
       "      <td>True</td>\n",
       "      <td>False</td>\n",
       "      <td>FAKE_user-c0065f16f964447f854fec27f697ff50</td>\n",
       "    </tr>\n",
       "    <tr>\n",
       "      <th>1</th>\n",
       "      <td>FAKE_answer-02bee963584e45c6836d0aab2d3b5482</td>\n",
       "      <td>True</td>\n",
       "      <td>False</td>\n",
       "      <td>False</td>\n",
       "      <td>False</td>\n",
       "      <td>True</td>\n",
       "      <td>False</td>\n",
       "      <td>False</td>\n",
       "      <td>True</td>\n",
       "      <td>False</td>\n",
       "      <td>True</td>\n",
       "      <td>True</td>\n",
       "      <td>True</td>\n",
       "      <td>FAKE_user-b030f4a84c0e4223beb701aaf79dbf51</td>\n",
       "    </tr>\n",
       "    <tr>\n",
       "      <th>2</th>\n",
       "      <td>FAKE_answer-a21c2c0c30ba487388c63e0645130120</td>\n",
       "      <td>True</td>\n",
       "      <td>False</td>\n",
       "      <td>False</td>\n",
       "      <td>False</td>\n",
       "      <td>True</td>\n",
       "      <td>True</td>\n",
       "      <td>True</td>\n",
       "      <td>False</td>\n",
       "      <td>True</td>\n",
       "      <td>True</td>\n",
       "      <td>True</td>\n",
       "      <td>True</td>\n",
       "      <td>FAKE_user-7d4fc1783f8f4964aeb1d8f6db3ba3a9</td>\n",
       "    </tr>\n",
       "    <tr>\n",
       "      <th>3</th>\n",
       "      <td>FAKE_answer-9010730262ad45babdf01293a03dbeed</td>\n",
       "      <td>False</td>\n",
       "      <td>True</td>\n",
       "      <td>False</td>\n",
       "      <td>True</td>\n",
       "      <td>False</td>\n",
       "      <td>False</td>\n",
       "      <td>False</td>\n",
       "      <td>False</td>\n",
       "      <td>False</td>\n",
       "      <td>False</td>\n",
       "      <td>False</td>\n",
       "      <td>False</td>\n",
       "      <td>FAKE_user-8190078bf6204bdaa58099048df24eb9</td>\n",
       "    </tr>\n",
       "    <tr>\n",
       "      <th>4</th>\n",
       "      <td>FAKE_answer-268c9cc5a4564d8f9252d37b5a056174</td>\n",
       "      <td>True</td>\n",
       "      <td>False</td>\n",
       "      <td>True</td>\n",
       "      <td>False</td>\n",
       "      <td>True</td>\n",
       "      <td>True</td>\n",
       "      <td>False</td>\n",
       "      <td>True</td>\n",
       "      <td>True</td>\n",
       "      <td>True</td>\n",
       "      <td>False</td>\n",
       "      <td>False</td>\n",
       "      <td>FAKE_user-955bbf2a71f64941b9d62fa47cc9b47a</td>\n",
       "    </tr>\n",
       "  </tbody>\n",
       "</table>\n",
       "</div>"
      ],
      "text/plain": [
       "                                            _id  answer_1  answer_2  answer_3  \\\n",
       "0  FAKE_answer-17e4e593581240e29ab1e5c3427f945e      True     False     False   \n",
       "1  FAKE_answer-02bee963584e45c6836d0aab2d3b5482      True     False     False   \n",
       "2  FAKE_answer-a21c2c0c30ba487388c63e0645130120      True     False     False   \n",
       "3  FAKE_answer-9010730262ad45babdf01293a03dbeed     False      True     False   \n",
       "4  FAKE_answer-268c9cc5a4564d8f9252d37b5a056174      True     False      True   \n",
       "\n",
       "   answer_4  answer_5  answer_6  answer_7  answer_8  answer_9  answer_10  \\\n",
       "0     False     False      True     False      True      True       True   \n",
       "1     False      True     False     False      True     False       True   \n",
       "2     False      True      True      True     False      True       True   \n",
       "3      True     False     False     False     False     False      False   \n",
       "4     False      True      True     False      True      True       True   \n",
       "\n",
       "   answer_11  evaded                                     user_id  \n",
       "0       True   False  FAKE_user-c0065f16f964447f854fec27f697ff50  \n",
       "1       True    True  FAKE_user-b030f4a84c0e4223beb701aaf79dbf51  \n",
       "2       True    True  FAKE_user-7d4fc1783f8f4964aeb1d8f6db3ba3a9  \n",
       "3      False   False  FAKE_user-8190078bf6204bdaa58099048df24eb9  \n",
       "4      False   False  FAKE_user-955bbf2a71f64941b9d62fa47cc9b47a  "
      ]
     },
     "execution_count": 3,
     "metadata": {},
     "output_type": "execute_result"
    }
   ],
   "source": [
    "df.head()"
   ]
  },
  {
   "cell_type": "code",
   "execution_count": 4,
   "id": "c804f54b-4f37-446f-86e6-49e760c5d7b4",
   "metadata": {},
   "outputs": [],
   "source": [
    "df = df.drop(columns=[\"_id\", \"user_id\"])"
   ]
  },
  {
   "cell_type": "code",
   "execution_count": 5,
   "id": "8bdcb6ae-c42b-49f6-9976-6c1091d2cb6b",
   "metadata": {},
   "outputs": [],
   "source": [
    "# df = df.astype(int)"
   ]
  },
  {
   "cell_type": "code",
   "execution_count": 6,
   "id": "a39020f8-b5c6-4c84-8d34-bc75dc393047",
   "metadata": {},
   "outputs": [
    {
     "data": {
      "text/html": [
       "<div>\n",
       "<style scoped>\n",
       "    .dataframe tbody tr th:only-of-type {\n",
       "        vertical-align: middle;\n",
       "    }\n",
       "\n",
       "    .dataframe tbody tr th {\n",
       "        vertical-align: top;\n",
       "    }\n",
       "\n",
       "    .dataframe thead th {\n",
       "        text-align: right;\n",
       "    }\n",
       "</style>\n",
       "<table border=\"1\" class=\"dataframe\">\n",
       "  <thead>\n",
       "    <tr style=\"text-align: right;\">\n",
       "      <th></th>\n",
       "      <th>answer_1</th>\n",
       "      <th>answer_2</th>\n",
       "      <th>answer_3</th>\n",
       "      <th>answer_4</th>\n",
       "      <th>answer_5</th>\n",
       "      <th>answer_6</th>\n",
       "      <th>answer_7</th>\n",
       "      <th>answer_8</th>\n",
       "      <th>answer_9</th>\n",
       "      <th>answer_10</th>\n",
       "      <th>answer_11</th>\n",
       "      <th>evaded</th>\n",
       "    </tr>\n",
       "  </thead>\n",
       "  <tbody>\n",
       "    <tr>\n",
       "      <th>0</th>\n",
       "      <td>True</td>\n",
       "      <td>False</td>\n",
       "      <td>False</td>\n",
       "      <td>False</td>\n",
       "      <td>False</td>\n",
       "      <td>True</td>\n",
       "      <td>False</td>\n",
       "      <td>True</td>\n",
       "      <td>True</td>\n",
       "      <td>True</td>\n",
       "      <td>True</td>\n",
       "      <td>False</td>\n",
       "    </tr>\n",
       "    <tr>\n",
       "      <th>1</th>\n",
       "      <td>True</td>\n",
       "      <td>False</td>\n",
       "      <td>False</td>\n",
       "      <td>False</td>\n",
       "      <td>True</td>\n",
       "      <td>False</td>\n",
       "      <td>False</td>\n",
       "      <td>True</td>\n",
       "      <td>False</td>\n",
       "      <td>True</td>\n",
       "      <td>True</td>\n",
       "      <td>True</td>\n",
       "    </tr>\n",
       "    <tr>\n",
       "      <th>2</th>\n",
       "      <td>True</td>\n",
       "      <td>False</td>\n",
       "      <td>False</td>\n",
       "      <td>False</td>\n",
       "      <td>True</td>\n",
       "      <td>True</td>\n",
       "      <td>True</td>\n",
       "      <td>False</td>\n",
       "      <td>True</td>\n",
       "      <td>True</td>\n",
       "      <td>True</td>\n",
       "      <td>True</td>\n",
       "    </tr>\n",
       "    <tr>\n",
       "      <th>3</th>\n",
       "      <td>False</td>\n",
       "      <td>True</td>\n",
       "      <td>False</td>\n",
       "      <td>True</td>\n",
       "      <td>False</td>\n",
       "      <td>False</td>\n",
       "      <td>False</td>\n",
       "      <td>False</td>\n",
       "      <td>False</td>\n",
       "      <td>False</td>\n",
       "      <td>False</td>\n",
       "      <td>False</td>\n",
       "    </tr>\n",
       "    <tr>\n",
       "      <th>4</th>\n",
       "      <td>True</td>\n",
       "      <td>False</td>\n",
       "      <td>True</td>\n",
       "      <td>False</td>\n",
       "      <td>True</td>\n",
       "      <td>True</td>\n",
       "      <td>False</td>\n",
       "      <td>True</td>\n",
       "      <td>True</td>\n",
       "      <td>True</td>\n",
       "      <td>False</td>\n",
       "      <td>False</td>\n",
       "    </tr>\n",
       "  </tbody>\n",
       "</table>\n",
       "</div>"
      ],
      "text/plain": [
       "   answer_1  answer_2  answer_3  answer_4  answer_5  answer_6  answer_7  \\\n",
       "0      True     False     False     False     False      True     False   \n",
       "1      True     False     False     False      True     False     False   \n",
       "2      True     False     False     False      True      True      True   \n",
       "3     False      True     False      True     False     False     False   \n",
       "4      True     False      True     False      True      True     False   \n",
       "\n",
       "   answer_8  answer_9  answer_10  answer_11  evaded  \n",
       "0      True      True       True       True   False  \n",
       "1      True     False       True       True    True  \n",
       "2     False      True       True       True    True  \n",
       "3     False     False      False      False   False  \n",
       "4      True      True       True      False   False  "
      ]
     },
     "execution_count": 6,
     "metadata": {},
     "output_type": "execute_result"
    }
   ],
   "source": [
    "df.head()"
   ]
  },
  {
   "cell_type": "code",
   "execution_count": 7,
   "id": "4f933855-875e-457f-be8e-77ec56bc793d",
   "metadata": {},
   "outputs": [
    {
     "name": "stdout",
     "output_type": "stream",
     "text": [
      "<class 'pandas.core.frame.DataFrame'>\n",
      "RangeIndex: 100 entries, 0 to 99\n",
      "Data columns (total 12 columns):\n",
      " #   Column     Non-Null Count  Dtype\n",
      "---  ------     --------------  -----\n",
      " 0   answer_1   100 non-null    bool \n",
      " 1   answer_2   100 non-null    bool \n",
      " 2   answer_3   100 non-null    bool \n",
      " 3   answer_4   100 non-null    bool \n",
      " 4   answer_5   100 non-null    bool \n",
      " 5   answer_6   100 non-null    bool \n",
      " 6   answer_7   100 non-null    bool \n",
      " 7   answer_8   100 non-null    bool \n",
      " 8   answer_9   100 non-null    bool \n",
      " 9   answer_10  100 non-null    bool \n",
      " 10  answer_11  100 non-null    bool \n",
      " 11  evaded     100 non-null    bool \n",
      "dtypes: bool(12)\n",
      "memory usage: 1.3 KB\n"
     ]
    }
   ],
   "source": [
    "df.info()"
   ]
  },
  {
   "cell_type": "code",
   "execution_count": 8,
   "id": "496eaa62-c035-4f87-b50c-be6ff0d79ed8",
   "metadata": {},
   "outputs": [],
   "source": [
    "X = df.iloc[:, :-1].values\n",
    "y = df.iloc[:, -1].values"
   ]
  },
  {
   "cell_type": "markdown",
   "id": "9d0eef38-2d91-4f65-bb81-e19f83d9f044",
   "metadata": {},
   "source": [
    "### Separação dos dados"
   ]
  },
  {
   "cell_type": "code",
   "execution_count": 60,
   "id": "fa58c55a-0f20-43a3-805f-e204c8420685",
   "metadata": {},
   "outputs": [],
   "source": [
    "# X_train, X_test, y_train, y_test = ms.train_test_split(X, y, test_size=0.2, random_state=0)\n",
    "X_train, X_test, y_train, y_test = ms.train_test_split(X, y, test_size=0.2, shuffle=True, random_state=0)"
   ]
  },
  {
   "cell_type": "code",
   "execution_count": 61,
   "id": "4fe454b2-ea0a-42ab-9c4e-22c346788bf8",
   "metadata": {},
   "outputs": [
    {
     "data": {
      "text/plain": [
       "80"
      ]
     },
     "execution_count": 61,
     "metadata": {},
     "output_type": "execute_result"
    }
   ],
   "source": [
    "len(X_train)"
   ]
  },
  {
   "cell_type": "markdown",
   "id": "3743f77a-dc8f-4f2e-b2c5-b39c172e678b",
   "metadata": {},
   "source": [
    "# Regressão Logística"
   ]
  },
  {
   "cell_type": "code",
   "execution_count": 62,
   "id": "713e2528-e3b9-42d7-90c6-bda6b87d4d7c",
   "metadata": {},
   "outputs": [
    {
     "name": "stdout",
     "output_type": "stream",
     "text": [
      "0.6\n"
     ]
    }
   ],
   "source": [
    "classifier = LogisticRegression()\n",
    "classifier.fit(X_train, y_train)\n",
    "y_pred = classifier.predict(X_test)\n",
    "print(accuracy_score(y_test, y_pred))"
   ]
  },
  {
   "cell_type": "code",
   "execution_count": 63,
   "id": "c036bbc3-baad-46b7-8b64-2ae0c1a0ffb6",
   "metadata": {},
   "outputs": [
    {
     "data": {
      "image/png": "[encoded data removed]",
      "text/plain": [
       "<Figure size 432x288 with 1 Axes>"
      ]
     },
     "metadata": {
      "needs_background": "light"
     },
     "output_type": "display_data"
    }
   ],
   "source": [
    "logistic_roc = plot_roc_curve(classifier, X_test, y_test)"
   ]
  },
  {
   "cell_type": "markdown",
   "id": "6f9d6e68-101d-4ae0-b2ff-ce69bc9857d9",
   "metadata": {},
   "source": [
    "# Árvore de decisão"
   ]
  },
  {
   "cell_type": "code",
   "execution_count": 64,
   "id": "aa74f7bc-b7fe-42bd-8a32-8c9ea81f3be2",
   "metadata": {},
   "outputs": [
    {
     "name": "stdout",
     "output_type": "stream",
     "text": [
      "0.7\n"
     ]
    }
   ],
   "source": [
    "from sklearn import tree\n",
    "classifier = tree.DecisionTreeClassifier()\n",
    "classifier = classifier.fit(X_train, y_train)\n",
    "y_pred = classifier.predict(X_test)\n",
    "print(accuracy_score(y_test, y_pred))"
   ]
  },
  {
   "cell_type": "code",
   "execution_count": 65,
   "id": "376666c3-2d5d-42cf-8fe1-6cda800479b7",
   "metadata": {},
   "outputs": [
    {
     "data": {
      "image/png": "[encoded data removed]",
      "text/plain": [
       "<Figure size 432x288 with 1 Axes>"
      ]
     },
     "metadata": {
      "needs_background": "light"
     },
     "output_type": "display_data"
    }
   ],
   "source": [
    "decision_tree_roc = plot_roc_curve(classifier, X_test, y_test)"
   ]
  },
  {
   "cell_type": "markdown",
   "id": "79827c0f-2ef7-42cf-b57e-24168d2d089b",
   "metadata": {},
   "source": [
    "# Random Forest"
   ]
  },
  {
   "cell_type": "code",
   "execution_count": 55,
   "id": "0dbf4827-8159-408e-a701-83fe8ff19fcf",
   "metadata": {},
   "outputs": [
    {
     "name": "stdout",
     "output_type": "stream",
     "text": [
      "0.45\n"
     ]
    }
   ],
   "source": [
    "from sklearn.ensemble import RandomForestClassifier\n",
    "classifier = RandomForestClassifier(n_estimators=100)\n",
    "classifier = classifier.fit(X_train, y_train)\n",
    "y_pred = classifier.predict(X_test)\n",
    "print(accuracy_score(y_test, y_pred))"
   ]
  },
  {
   "cell_type": "code",
   "execution_count": 56,
   "id": "55f1b0c5-0d1e-4240-9148-a35732811c26",
   "metadata": {},
   "outputs": [
    {
     "data": {
      "image/png": "[encoded data removed]",
      "text/plain": [
       "<Figure size 432x288 with 1 Axes>"
      ]
     },
     "metadata": {
      "needs_background": "light"
     },
     "output_type": "display_data"
    }
   ],
   "source": [
    "random_forest_roc = plot_roc_curve(classifier, X_test, y_test)"
   ]
  },
  {
   "cell_type": "markdown",
   "id": "10ce0f93-a261-4a81-bc56-5cd8ed458f88",
   "metadata": {},
   "source": [
    "# Support Vector Machine"
   ]
  },
  {
   "cell_type": "code",
   "execution_count": 59,
   "id": "9abb3ee9-33ea-4353-810f-5700bfb570ed",
   "metadata": {},
   "outputs": [
    {
     "name": "stdout",
     "output_type": "stream",
     "text": [
      "0.6\n"
     ]
    }
   ],
   "source": [
    "from sklearn.svm import SVC\n",
    "classifier = SVC(random_state=42)\n",
    "classifier = classifier.fit(X_train, y_train)\n",
    "y_pred = classifier.predict(X_test)\n",
    "print(accuracy_score(y_test, y_pred))"
   ]
  },
  {
   "cell_type": "code",
   "execution_count": 58,
   "id": "8adbd456-edd1-4c19-b761-a693bf45bd89",
   "metadata": {},
   "outputs": [
    {
     "data": {
      "image/png": "[encoded data removed]",
      "text/plain": [
       "<Figure size 432x288 with 1 Axes>"
      ]
     },
     "metadata": {
      "needs_background": "light"
     },
     "output_type": "display_data"
    }
   ],
   "source": [
    "svm_roc = plot_roc_curve(classifier, X_test, y_test)"
   ]
  },
  {
   "cell_type": "markdown",
   "id": "04643551-1951-4406-836b-6ef79280ccc5",
   "metadata": {},
   "source": [
    "# Plotando ROC dos modelos"
   ]
  },
  {
   "cell_type": "code",
   "execution_count": 48,
   "id": "2e65d653-1fa8-4167-aa0c-4c7a8181cb00",
   "metadata": {},
   "outputs": [
    {
     "data": {
      "text/plain": [
       "<sklearn.metrics._plot.roc_curve.RocCurveDisplay at 0x7fe9bfb4aeb0>"
      ]
     },
     "execution_count": 48,
     "metadata": {},
     "output_type": "execute_result"
    },
    {
     "data": {
      "image/png": "[encoded data removed]",
      "text/plain": [
       "<Figure size 432x288 with 1 Axes>"
      ]
     },
     "metadata": {
      "needs_background": "light"
     },
     "output_type": "display_data"
    }
   ],
   "source": [
    "ax = plt.gca()\n",
    "svm_roc.plot(ax=ax, alpha=0.8)\n",
    "logistic_roc.plot(ax=ax, alpha=0.8)\n",
    "decision_tree_roc.plot(ax=ax, alpha=0.8)\n",
    "random_forest_roc.plot(ax=ax, alpha=0.8)"
   ]
  },
  {
   "cell_type": "code",
   "execution_count": null,
   "id": "5df84567-6cbc-492b-b52d-de931c86977c",
   "metadata": {},
   "outputs": [],
   "source": []
  }
 ],
 "metadata": {
  "kernelspec": {
   "display_name": "Python 3",
   "language": "python",
   "name": "python3"
  },
  "language_info": {
   "codemirror_mode": {
    "name": "ipython",
    "version": 3
   },
   "file_extension": ".py",
   "mimetype": "text/x-python",
   "name": "python",
   "nbconvert_exporter": "python",
   "pygments_lexer": "ipython3",
   "version": "3.8.10"
  }
 },
 "nbformat": 4,
 "nbformat_minor": 5
}
