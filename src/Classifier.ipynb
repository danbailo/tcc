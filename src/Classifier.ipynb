{
 "cells": [
  {
   "cell_type": "code",
   "execution_count": 177,
   "id": "4da04d93-90f8-453a-b2bd-78487c9eaa1f",
   "metadata": {},
   "outputs": [],
   "source": [
    "from mongoengine import connect, disconnect_all\n",
    "from utils import mongo_to_df\n",
    "from sklearn.metrics import confusion_matrix, accuracy_score\n",
    "from sklearn.linear_model import LogisticRegression\n",
    "import sklearn.model_selection as ms\n",
    "import numpy as np"
   ]
  },
  {
   "cell_type": "markdown",
   "id": "e39f9fe8-7825-4987-a57d-ece4e9ac8f79",
   "metadata": {},
   "source": [
    "### Preparando dados"
   ]
  },
  {
   "cell_type": "code",
   "execution_count": 167,
   "id": "f8a51f83-2295-483f-bb48-08a31d2dfe22",
   "metadata": {},
   "outputs": [],
   "source": [
    "connect(\"tcc\")\n",
    "df = mongo_to_df()\n",
    "disconnect_all()"
   ]
  },
  {
   "cell_type": "code",
   "execution_count": 168,
   "id": "42c38733-afa1-4fac-bab0-0ac44cb5c1f5",
   "metadata": {},
   "outputs": [
    {
     "data": {
      "text/html": [
       "<div>\n",
       "<style scoped>\n",
       "    .dataframe tbody tr th:only-of-type {\n",
       "        vertical-align: middle;\n",
       "    }\n",
       "\n",
       "    .dataframe tbody tr th {\n",
       "        vertical-align: top;\n",
       "    }\n",
       "\n",
       "    .dataframe thead th {\n",
       "        text-align: right;\n",
       "    }\n",
       "</style>\n",
       "<table border=\"1\" class=\"dataframe\">\n",
       "  <thead>\n",
       "    <tr style=\"text-align: right;\">\n",
       "      <th></th>\n",
       "      <th>_id</th>\n",
       "      <th>answer_1</th>\n",
       "      <th>answer_2</th>\n",
       "      <th>answer_3</th>\n",
       "      <th>answer_4</th>\n",
       "      <th>answer_5</th>\n",
       "      <th>answer_6</th>\n",
       "      <th>answer_7</th>\n",
       "      <th>answer_8</th>\n",
       "      <th>answer_9</th>\n",
       "      <th>answer_10</th>\n",
       "      <th>answer_11</th>\n",
       "      <th>evaded</th>\n",
       "      <th>user_id</th>\n",
       "    </tr>\n",
       "  </thead>\n",
       "  <tbody>\n",
       "    <tr>\n",
       "      <th>0</th>\n",
       "      <td>FAKE_answer-01a70f0ff9624093ae94f1eb33829b96</td>\n",
       "      <td>False</td>\n",
       "      <td>True</td>\n",
       "      <td>True</td>\n",
       "      <td>False</td>\n",
       "      <td>True</td>\n",
       "      <td>False</td>\n",
       "      <td>True</td>\n",
       "      <td>False</td>\n",
       "      <td>True</td>\n",
       "      <td>True</td>\n",
       "      <td>False</td>\n",
       "      <td>True</td>\n",
       "      <td>FAKE_user-9c59d8e7f2d243f69150d206d5695733</td>\n",
       "    </tr>\n",
       "    <tr>\n",
       "      <th>1</th>\n",
       "      <td>FAKE_answer-8267945f6f21479fa1c58280de074088</td>\n",
       "      <td>False</td>\n",
       "      <td>True</td>\n",
       "      <td>True</td>\n",
       "      <td>True</td>\n",
       "      <td>True</td>\n",
       "      <td>True</td>\n",
       "      <td>False</td>\n",
       "      <td>False</td>\n",
       "      <td>True</td>\n",
       "      <td>True</td>\n",
       "      <td>True</td>\n",
       "      <td>False</td>\n",
       "      <td>FAKE_user-cd43f2f88a654305be0fe4c0f3b75b2a</td>\n",
       "    </tr>\n",
       "    <tr>\n",
       "      <th>2</th>\n",
       "      <td>FAKE_answer-b06cbba653a944dea1139b914d8c9013</td>\n",
       "      <td>False</td>\n",
       "      <td>False</td>\n",
       "      <td>False</td>\n",
       "      <td>False</td>\n",
       "      <td>True</td>\n",
       "      <td>True</td>\n",
       "      <td>True</td>\n",
       "      <td>True</td>\n",
       "      <td>True</td>\n",
       "      <td>False</td>\n",
       "      <td>False</td>\n",
       "      <td>False</td>\n",
       "      <td>FAKE_user-b45a2054f5174339a06078ac67ccdbd5</td>\n",
       "    </tr>\n",
       "    <tr>\n",
       "      <th>3</th>\n",
       "      <td>FAKE_answer-820e066d68fa416b8aa7ba9e82acdf3b</td>\n",
       "      <td>False</td>\n",
       "      <td>True</td>\n",
       "      <td>True</td>\n",
       "      <td>False</td>\n",
       "      <td>False</td>\n",
       "      <td>False</td>\n",
       "      <td>False</td>\n",
       "      <td>True</td>\n",
       "      <td>True</td>\n",
       "      <td>False</td>\n",
       "      <td>True</td>\n",
       "      <td>True</td>\n",
       "      <td>FAKE_user-0e8adfeacccf400ca1cc9462f40a3b58</td>\n",
       "    </tr>\n",
       "    <tr>\n",
       "      <th>4</th>\n",
       "      <td>FAKE_answer-3698a281d1aa4f3fa31f0d5ca9dac0ad</td>\n",
       "      <td>True</td>\n",
       "      <td>True</td>\n",
       "      <td>False</td>\n",
       "      <td>False</td>\n",
       "      <td>True</td>\n",
       "      <td>False</td>\n",
       "      <td>False</td>\n",
       "      <td>False</td>\n",
       "      <td>False</td>\n",
       "      <td>False</td>\n",
       "      <td>True</td>\n",
       "      <td>False</td>\n",
       "      <td>FAKE_user-2774d34e0c79434782ac9f2554a2f1ff</td>\n",
       "    </tr>\n",
       "  </tbody>\n",
       "</table>\n",
       "</div>"
      ],
      "text/plain": [
       "                                            _id  answer_1  answer_2  answer_3  \\\n",
       "0  FAKE_answer-01a70f0ff9624093ae94f1eb33829b96     False      True      True   \n",
       "1  FAKE_answer-8267945f6f21479fa1c58280de074088     False      True      True   \n",
       "2  FAKE_answer-b06cbba653a944dea1139b914d8c9013     False     False     False   \n",
       "3  FAKE_answer-820e066d68fa416b8aa7ba9e82acdf3b     False      True      True   \n",
       "4  FAKE_answer-3698a281d1aa4f3fa31f0d5ca9dac0ad      True      True     False   \n",
       "\n",
       "   answer_4  answer_5  answer_6  answer_7  answer_8  answer_9  answer_10  \\\n",
       "0     False      True     False      True     False      True       True   \n",
       "1      True      True      True     False     False      True       True   \n",
       "2     False      True      True      True      True      True      False   \n",
       "3     False     False     False     False      True      True      False   \n",
       "4     False      True     False     False     False     False      False   \n",
       "\n",
       "   answer_11  evaded                                     user_id  \n",
       "0      False    True  FAKE_user-9c59d8e7f2d243f69150d206d5695733  \n",
       "1       True   False  FAKE_user-cd43f2f88a654305be0fe4c0f3b75b2a  \n",
       "2      False   False  FAKE_user-b45a2054f5174339a06078ac67ccdbd5  \n",
       "3       True    True  FAKE_user-0e8adfeacccf400ca1cc9462f40a3b58  \n",
       "4       True   False  FAKE_user-2774d34e0c79434782ac9f2554a2f1ff  "
      ]
     },
     "execution_count": 168,
     "metadata": {},
     "output_type": "execute_result"
    }
   ],
   "source": [
    "df.head()"
   ]
  },
  {
   "cell_type": "code",
   "execution_count": 169,
   "id": "c804f54b-4f37-446f-86e6-49e760c5d7b4",
   "metadata": {},
   "outputs": [],
   "source": [
    "df = df.drop(columns=[\"_id\", \"user_id\"])"
   ]
  },
  {
   "cell_type": "code",
   "execution_count": 170,
   "id": "8bdcb6ae-c42b-49f6-9976-6c1091d2cb6b",
   "metadata": {},
   "outputs": [],
   "source": [
    "# df = df.astype(int)"
   ]
  },
  {
   "cell_type": "code",
   "execution_count": 171,
   "id": "a39020f8-b5c6-4c84-8d34-bc75dc393047",
   "metadata": {},
   "outputs": [
    {
     "data": {
      "text/html": [
       "<div>\n",
       "<style scoped>\n",
       "    .dataframe tbody tr th:only-of-type {\n",
       "        vertical-align: middle;\n",
       "    }\n",
       "\n",
       "    .dataframe tbody tr th {\n",
       "        vertical-align: top;\n",
       "    }\n",
       "\n",
       "    .dataframe thead th {\n",
       "        text-align: right;\n",
       "    }\n",
       "</style>\n",
       "<table border=\"1\" class=\"dataframe\">\n",
       "  <thead>\n",
       "    <tr style=\"text-align: right;\">\n",
       "      <th></th>\n",
       "      <th>answer_1</th>\n",
       "      <th>answer_2</th>\n",
       "      <th>answer_3</th>\n",
       "      <th>answer_4</th>\n",
       "      <th>answer_5</th>\n",
       "      <th>answer_6</th>\n",
       "      <th>answer_7</th>\n",
       "      <th>answer_8</th>\n",
       "      <th>answer_9</th>\n",
       "      <th>answer_10</th>\n",
       "      <th>answer_11</th>\n",
       "      <th>evaded</th>\n",
       "    </tr>\n",
       "  </thead>\n",
       "  <tbody>\n",
       "    <tr>\n",
       "      <th>0</th>\n",
       "      <td>False</td>\n",
       "      <td>True</td>\n",
       "      <td>True</td>\n",
       "      <td>False</td>\n",
       "      <td>True</td>\n",
       "      <td>False</td>\n",
       "      <td>True</td>\n",
       "      <td>False</td>\n",
       "      <td>True</td>\n",
       "      <td>True</td>\n",
       "      <td>False</td>\n",
       "      <td>True</td>\n",
       "    </tr>\n",
       "    <tr>\n",
       "      <th>1</th>\n",
       "      <td>False</td>\n",
       "      <td>True</td>\n",
       "      <td>True</td>\n",
       "      <td>True</td>\n",
       "      <td>True</td>\n",
       "      <td>True</td>\n",
       "      <td>False</td>\n",
       "      <td>False</td>\n",
       "      <td>True</td>\n",
       "      <td>True</td>\n",
       "      <td>True</td>\n",
       "      <td>False</td>\n",
       "    </tr>\n",
       "    <tr>\n",
       "      <th>2</th>\n",
       "      <td>False</td>\n",
       "      <td>False</td>\n",
       "      <td>False</td>\n",
       "      <td>False</td>\n",
       "      <td>True</td>\n",
       "      <td>True</td>\n",
       "      <td>True</td>\n",
       "      <td>True</td>\n",
       "      <td>True</td>\n",
       "      <td>False</td>\n",
       "      <td>False</td>\n",
       "      <td>False</td>\n",
       "    </tr>\n",
       "    <tr>\n",
       "      <th>3</th>\n",
       "      <td>False</td>\n",
       "      <td>True</td>\n",
       "      <td>True</td>\n",
       "      <td>False</td>\n",
       "      <td>False</td>\n",
       "      <td>False</td>\n",
       "      <td>False</td>\n",
       "      <td>True</td>\n",
       "      <td>True</td>\n",
       "      <td>False</td>\n",
       "      <td>True</td>\n",
       "      <td>True</td>\n",
       "    </tr>\n",
       "    <tr>\n",
       "      <th>4</th>\n",
       "      <td>True</td>\n",
       "      <td>True</td>\n",
       "      <td>False</td>\n",
       "      <td>False</td>\n",
       "      <td>True</td>\n",
       "      <td>False</td>\n",
       "      <td>False</td>\n",
       "      <td>False</td>\n",
       "      <td>False</td>\n",
       "      <td>False</td>\n",
       "      <td>True</td>\n",
       "      <td>False</td>\n",
       "    </tr>\n",
       "  </tbody>\n",
       "</table>\n",
       "</div>"
      ],
      "text/plain": [
       "   answer_1  answer_2  answer_3  answer_4  answer_5  answer_6  answer_7  \\\n",
       "0     False      True      True     False      True     False      True   \n",
       "1     False      True      True      True      True      True     False   \n",
       "2     False     False     False     False      True      True      True   \n",
       "3     False      True      True     False     False     False     False   \n",
       "4      True      True     False     False      True     False     False   \n",
       "\n",
       "   answer_8  answer_9  answer_10  answer_11  evaded  \n",
       "0     False      True       True      False    True  \n",
       "1     False      True       True       True   False  \n",
       "2      True      True      False      False   False  \n",
       "3      True      True      False       True    True  \n",
       "4     False     False      False       True   False  "
      ]
     },
     "execution_count": 171,
     "metadata": {},
     "output_type": "execute_result"
    }
   ],
   "source": [
    "df.head()"
   ]
  },
  {
   "cell_type": "code",
   "execution_count": 172,
   "id": "4f933855-875e-457f-be8e-77ec56bc793d",
   "metadata": {},
   "outputs": [
    {
     "name": "stdout",
     "output_type": "stream",
     "text": [
      "<class 'pandas.core.frame.DataFrame'>\n",
      "RangeIndex: 100 entries, 0 to 99\n",
      "Data columns (total 12 columns):\n",
      " #   Column     Non-Null Count  Dtype\n",
      "---  ------     --------------  -----\n",
      " 0   answer_1   100 non-null    bool \n",
      " 1   answer_2   100 non-null    bool \n",
      " 2   answer_3   100 non-null    bool \n",
      " 3   answer_4   100 non-null    bool \n",
      " 4   answer_5   100 non-null    bool \n",
      " 5   answer_6   100 non-null    bool \n",
      " 6   answer_7   100 non-null    bool \n",
      " 7   answer_8   100 non-null    bool \n",
      " 8   answer_9   100 non-null    bool \n",
      " 9   answer_10  100 non-null    bool \n",
      " 10  answer_11  100 non-null    bool \n",
      " 11  evaded     100 non-null    bool \n",
      "dtypes: bool(12)\n",
      "memory usage: 1.3 KB\n"
     ]
    }
   ],
   "source": [
    "df.info()"
   ]
  },
  {
   "cell_type": "code",
   "execution_count": 173,
   "id": "496eaa62-c035-4f87-b50c-be6ff0d79ed8",
   "metadata": {},
   "outputs": [],
   "source": [
    "X = df.iloc[:, :-1].values\n",
    "y = df.iloc[:, -1].values"
   ]
  },
  {
   "cell_type": "markdown",
   "id": "9d0eef38-2d91-4f65-bb81-e19f83d9f044",
   "metadata": {},
   "source": [
    "### Separação dos dados"
   ]
  },
  {
   "cell_type": "code",
   "execution_count": 215,
   "id": "4293b4ba-4654-478b-be24-e14f77491a12",
   "metadata": {},
   "outputs": [],
   "source": [
    "import sklearn\n",
    "sklearn.random.seed(21)"
   ]
  },
  {
   "cell_type": "code",
   "execution_count": 216,
   "id": "fa58c55a-0f20-43a3-805f-e204c8420685",
   "metadata": {},
   "outputs": [],
   "source": [
    "# X_train, X_test, y_train, y_test = ms.train_test_split(X, y, test_size=0.2, random_state=0)\n",
    "X_train, X_test, y_train, y_test = ms.train_test_split(X, y, test_size=0.2, shuffle=False, random_state=1)"
   ]
  },
  {
   "cell_type": "code",
   "execution_count": 217,
   "id": "4fe454b2-ea0a-42ab-9c4e-22c346788bf8",
   "metadata": {},
   "outputs": [
    {
     "data": {
      "text/plain": [
       "80"
      ]
     },
     "execution_count": 217,
     "metadata": {},
     "output_type": "execute_result"
    }
   ],
   "source": [
    "len(X_train)"
   ]
  },
  {
   "cell_type": "markdown",
   "id": "3743f77a-dc8f-4f2e-b2c5-b39c172e678b",
   "metadata": {},
   "source": [
    "### Treinando modelo"
   ]
  },
  {
   "cell_type": "code",
   "execution_count": 218,
   "id": "9935a31b-dcf4-4011-a147-4cf8f2f41463",
   "metadata": {},
   "outputs": [
    {
     "data": {
      "text/plain": [
       "LogisticRegression()"
      ]
     },
     "execution_count": 218,
     "metadata": {},
     "output_type": "execute_result"
    }
   ],
   "source": [
    "classifier = LogisticRegression()\n",
    "classifier.fit(X_train, y_train)"
   ]
  },
  {
   "cell_type": "markdown",
   "id": "053e862d-fc5d-452f-aae8-2ff5f9495d32",
   "metadata": {},
   "source": [
    "### Previsão"
   ]
  },
  {
   "cell_type": "code",
   "execution_count": 219,
   "id": "f15479bb-d0e9-45a3-bb17-1f5593df1265",
   "metadata": {},
   "outputs": [],
   "source": [
    "y_pred = classifier.predict(X_test)"
   ]
  },
  {
   "cell_type": "markdown",
   "id": "c7601108-814a-4df7-8b19-9211af8bb1ae",
   "metadata": {},
   "source": [
    "### Matriz de confusão"
   ]
  },
  {
   "cell_type": "code",
   "execution_count": 220,
   "id": "4b945cbf-d754-4ae0-bc36-e3a64348fe3e",
   "metadata": {},
   "outputs": [],
   "source": [
    "cm = confusion_matrix(y_test, y_pred)"
   ]
  },
  {
   "cell_type": "markdown",
   "id": "26dc918c-247f-4ca3-8563-4cd2dbc0e1d7",
   "metadata": {},
   "source": [
    "Dos valores que eram 0, quantos que realmente deram 0? 8 (`cm[0][0]`).\n",
    "\n",
    "Dos valores que eram 0, quantos que deram 1? 2 (`cm[0][1]`).\n",
    "\n",
    "Dos valores que eram 1, quantos que deram 0? 5 (`cm[1][0]`).\n",
    "\n",
    "Dos valores que eram 1, quantos que realmente deram 1? 5 (`cm[1][1]`)."
   ]
  },
  {
   "cell_type": "code",
   "execution_count": 221,
   "id": "74daac5e-30dc-4203-8715-9715efeb8355",
   "metadata": {},
   "outputs": [
    {
     "data": {
      "text/plain": [
       "array([[3, 6],\n",
       "       [4, 7]])"
      ]
     },
     "execution_count": 221,
     "metadata": {},
     "output_type": "execute_result"
    }
   ],
   "source": [
    "cm"
   ]
  },
  {
   "cell_type": "code",
   "execution_count": 222,
   "id": "f12fc7ed-f2de-484e-b0c5-68e6c3790299",
   "metadata": {},
   "outputs": [],
   "source": [
    "y_result = np.concatenate((y_pred.reshape(len(y_pred),1), y_test.reshape(len(y_test),1)),1)"
   ]
  },
  {
   "cell_type": "code",
   "execution_count": 223,
   "id": "aae4775e-0296-4d3d-b74c-b0071be7c43c",
   "metadata": {},
   "outputs": [],
   "source": [
    "# y_result"
   ]
  },
  {
   "cell_type": "code",
   "execution_count": 224,
   "id": "3f22f21d-e4e0-4cf6-9f53-f35146fef912",
   "metadata": {},
   "outputs": [
    {
     "name": "stdout",
     "output_type": "stream",
     "text": [
      "0.5\n"
     ]
    }
   ],
   "source": [
    "print(accuracy_score(y_test, y_pred))"
   ]
  },
  {
   "cell_type": "markdown",
   "id": "7750b5b9-2a1e-4290-8290-70c8754eb145",
   "metadata": {},
   "source": []
  }
 ],
 "metadata": {
  "kernelspec": {
   "display_name": "Python 3",
   "language": "python",
   "name": "python3"
  },
  "language_info": {
   "codemirror_mode": {
    "name": "ipython",
    "version": 3
   },
   "file_extension": ".py",
   "mimetype": "text/x-python",
   "name": "python",
   "nbconvert_exporter": "python",
   "pygments_lexer": "ipython3",
   "version": "3.8.10"
  }
 },
 "nbformat": 4,
 "nbformat_minor": 5
}
